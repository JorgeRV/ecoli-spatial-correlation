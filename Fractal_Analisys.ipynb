{
 "cells": [
  {
   "cell_type": "code",
   "execution_count": 195,
   "metadata": {
    "collapsed": true
   },
   "outputs": [],
   "source": [
    "#Modules necesary for the following section\n",
    "import numpy as np\n",
    "import mpl_toolkits.mplot3d.axes3d as p3\n",
    "import matplotlib.pyplot as plt\n",
    "import colorsys\n",
    "from PIL import Image\n",
    "from scipy.spatial import distance\n",
    "\n",
    "%matplotlib inline\n",
    "import matplotlib\n",
    "import numpy as np\n",
    "\n",
    "import skimage \n",
    "from skimage import io, filters\n",
    "\n",
    "import glob\n",
    "import os"
   ]
  },
  {
   "cell_type": "code",
   "execution_count": 196,
   "metadata": {},
   "outputs": [
    {
     "name": "stdout",
     "output_type": "stream",
     "text": [
      "/Users/jorgeriverosvergara/Desktop/Universidad/10ºSemestre/VRI-Measurement and Analysis of Growth and Gene Expression in Bacterial Colonies/ecoli-spatial-correlation/Images/All/*.png\n",
      "Files: 2\n"
     ]
    }
   ],
   "source": [
    "# Obtain and print the path to the images. Print the number of images in total.\n",
    "path = str(os.getcwd())\n",
    "path = path + \"/Images/All/*.png\"\n",
    "print(path)\n",
    "\n",
    "archivos = glob.glob(path)\n",
    "arch = len(archivos)\n",
    "print(\"Files:\", arch)"
   ]
  },
  {
   "cell_type": "code",
   "execution_count": 197,
   "metadata": {},
   "outputs": [
    {
     "name": "stdout",
     "output_type": "stream",
     "text": [
      "/Users/jorgeriverosvergara/Desktop/Universidad/10ºSemestre/VRI-Measurement and Analysis of Growth and Gene Expression in Bacterial Colonies/ecoli-spatial-correlation/Images/All/dla_3200_200x200.png\n",
      "dla_3200_200x200.png\n"
     ]
    }
   ],
   "source": [
    "# Filename: the path to a specified image which is going to be analyzed. \n",
    "# Arname: the name of the image to be analyzed\n",
    "#for i in archivos:\n",
    "#    print(i)\n",
    "\n",
    "filename = archivos[0] #The 44 value can change to select other pictures. To use all see bottom of the code\n",
    "arname = filename[177:] #Mod this to have cut to the name of the file only\n",
    "\n",
    "print(filename)\n",
    "print(arname)"
   ]
  },
  {
   "cell_type": "code",
   "execution_count": 198,
   "metadata": {},
   "outputs": [
    {
     "name": "stdout",
     "output_type": "stream",
     "text": [
      "Total image size:  40000\n",
      "Number of lighted pixels: 5747  Percentage: 14.3675 %\n"
     ]
    }
   ],
   "source": [
    "# (1) Import the file to be analyzed!\n",
    "img_file = Image.open(filename)\n",
    "img = img_file.load()\n",
    "\n",
    "# (2) Get image width & height in pixels\n",
    "[xs, ys] = img_file.size\n",
    "print(\"Total image size: \", xs*ys)\n",
    "\n",
    "pixels = [] #Array positions [x,y] for each pixel\n",
    "all_pixels = [] #Same with [x, y, n], which n = 1 for a lighted pixel and n = 0 for a dark one.\n",
    "array_img = [] #Array with 1 or 0 which resembles the image taken\n",
    "\n",
    "# (3) Examine each pixel in the image file\n",
    "for x in range(0, xs):\n",
    "    line = []\n",
    "    for y in range(0, ys):\n",
    "        # (4)  Get the RGB color of the pixel\n",
    "        [r, g, b, k] = img[x, y]\n",
    "\n",
    "        # (5)  Normalize pixel color values\n",
    "        r /= 255.0\n",
    "        g /= 255.0\n",
    "        b /= 255.0\n",
    "    \n",
    "        if r != 0 or g != 0 or b !=0:\n",
    "            pixels.append([x,y])\n",
    "            all_pixels.append([x,y, 1])\n",
    "            line.append(1)\n",
    "        \n",
    "        if r == 0 and g == 0 and b == 0:\n",
    "            all_pixels.append([x,y, 0])\n",
    "            line.append(0)\n",
    "    \n",
    "    array_img.append(line)\n",
    "        \n",
    "nP = len(pixels)\n",
    "print(\"Number of lighted pixels:\",nP, \" Percentage:\", 5747/400, \"%\")"
   ]
  },
  {
   "cell_type": "code",
   "execution_count": 199,
   "metadata": {},
   "outputs": [
    {
     "name": "stdout",
     "output_type": "stream",
     "text": [
      "Radius: 142  Interval: 2\n",
      "0 0.0 %\n"
     ]
    },
    {
     "name": "stderr",
     "output_type": "stream",
     "text": [
      "/Users/jorgeriverosvergara/anaconda/lib/python3.6/site-packages/numpy/core/fromnumeric.py:2889: RuntimeWarning: Mean of empty slice.\n",
      "  out=out, **kwargs)\n",
      "/Users/jorgeriverosvergara/anaconda/lib/python3.6/site-packages/numpy/core/_methods.py:80: RuntimeWarning: invalid value encountered in double_scalars\n",
      "  ret = ret.dtype.type(ret / rcount)\n"
     ]
    },
    {
     "name": "stdout",
     "output_type": "stream",
     "text": [
      "57 0.9918218200800417 %\n",
      "114 1.9836436401600834 %\n",
      "171 2.9754654602401254 %\n",
      "228 3.967287280320167 %\n",
      "285 4.959109100400209 %\n",
      "342 5.950930920480251 %\n",
      "399 6.942752740560293 %\n",
      "456 7.934574560640334 %\n",
      "513 8.926396380720377 %\n",
      "570 9.918218200800418 %\n",
      "627 10.91004002088046 %\n",
      "684 11.901861840960501 %\n",
      "741 12.893683661040543 %\n",
      "798 13.885505481120585 %\n",
      "855 14.877327301200626 %\n",
      "912 15.869149121280667 %\n",
      "969 16.86097094136071 %\n",
      "1026 17.852792761440753 %\n",
      "1083 18.844614581520794 %\n",
      "1140 19.836436401600835 %\n",
      "1197 20.828258221680876 %\n",
      "1254 21.82008004176092 %\n",
      "1311 22.811901861840962 %\n",
      "1368 23.803723681921003 %\n",
      "1425 24.795545502001044 %\n",
      "1482 25.787367322081085 %\n",
      "1539 26.779189142161126 %\n",
      "1596 27.77101096224117 %\n",
      "1653 28.76283278232121 %\n",
      "1710 29.754654602401253 %\n",
      "1767 30.746476422481294 %\n",
      "1824 31.738298242561335 %\n",
      "1881 32.730120062641376 %\n",
      "1938 33.72194188272142 %\n",
      "1995 34.71376370280146 %\n",
      "2052 35.705585522881506 %\n",
      "2109 36.69740734296155 %\n",
      "2166 37.68922916304159 %\n",
      "2223 38.68105098312163 %\n",
      "2280 39.67287280320167 %\n",
      "2337 40.66469462328171 %\n",
      "2394 41.65651644336175 %\n",
      "2451 42.6483382634418 %\n",
      "2508 43.64016008352184 %\n",
      "2565 44.63198190360188 %\n",
      "2622 45.623803723681924 %\n",
      "2679 46.615625543761965 %\n",
      "2736 47.607447363842006 %\n",
      "2793 48.59926918392205 %\n",
      "2850 49.59109100400209 %\n",
      "2907 50.58291282408213 %\n",
      "2964 51.57473464416217 %\n",
      "3021 52.56655646424221 %\n",
      "3078 53.55837828432225 %\n",
      "3135 54.5502001044023 %\n",
      "3192 55.54202192448234 %\n",
      "3249 56.53384374456238 %\n",
      "3306 57.52566556464242 %\n",
      "3363 58.517487384722465 %\n",
      "3420 59.509309204802506 %\n",
      "3477 60.50113102488255 %\n",
      "3534 61.49295284496259 %\n",
      "3591 62.48477466504263 %\n",
      "3648 63.47659648512267 %\n",
      "3705 64.46841830520272 %\n",
      "3762 65.46024012528275 %\n",
      "3819 66.4520619453628 %\n",
      "3876 67.44388376544283 %\n",
      "3933 68.43570558552288 %\n",
      "3990 69.42752740560292 %\n",
      "4047 70.41934922568296 %\n",
      "4104 71.41117104576301 %\n",
      "4161 72.40299286584305 %\n",
      "4218 73.3948146859231 %\n",
      "4275 74.38663650600313 %\n",
      "4332 75.37845832608318 %\n",
      "4389 76.37028014616321 %\n",
      "4446 77.36210196624326 %\n",
      "4503 78.35392378632329 %\n",
      "4560 79.34574560640334 %\n",
      "4617 80.33756742648337 %\n",
      "4674 81.32938924656342 %\n",
      "4731 82.32121106664346 %\n",
      "4788 83.3130328867235 %\n",
      "4845 84.30485470680354 %\n",
      "4902 85.2966765268836 %\n",
      "4959 86.28849834696364 %\n",
      "5016 87.28032016704368 %\n",
      "5073 88.27214198712372 %\n",
      "5130 89.26396380720377 %\n",
      "5187 90.2557856272838 %\n",
      "5244 91.24760744736385 %\n",
      "5301 92.23942926744388 %\n",
      "5358 93.23125108752393 %\n",
      "5415 94.22307290760396 %\n",
      "5472 95.21489472768401 %\n",
      "5529 96.20671654776405 %\n",
      "5586 97.1985383678441 %\n",
      "5643 98.19036018792413 %\n",
      "5700 99.18218200800418 %\n",
      "100 %\n"
     ]
    }
   ],
   "source": [
    "# Obtain the number of pixels in a certain distance\n",
    "interval = 2\n",
    "R = np.arange(0, max(xs, ys)*np.sqrt(2) + 1, interval)\n",
    "nR = len(R)\n",
    "print(\"Radius:\", nR, \" Interval:\", interval)\n",
    "dR = 0\n",
    "count = np.zeros((nP, nR))\n",
    "\n",
    "corr = np.zeros((nR, 1))\n",
    "\n",
    "narray_img = np.array(array_img)\n",
    "indx = np.where(narray_img > 0) #indx is 2 arrays with x and y points where the condition is met\n",
    "nx = len(indx[0]) #nx == ny\n",
    "\n",
    "y, x = np.meshgrid(np.arange(xs), np.arange(ys))\n",
    "cx, cy = indx\n",
    "\n",
    "for c in range(0, nx):\n",
    "    x0 = cx[c]\n",
    "    y0 = cy[c]\n",
    "    \n",
    "    r = np.sqrt((x - x0)**2 + (y - y0)**2)\n",
    "    \n",
    "    if c%int(nx/100) == 0:\n",
    "        print(c, c/nx*100, \"%\")\n",
    "    \n",
    "    if c == nx - 1:\n",
    "        print(\"100 %\")\n",
    "    \n",
    "    for nr in range(nR):\n",
    "        rad = R[nr]\n",
    "        ridx = np.where((r >= rad)*(r < rad+interval))\n",
    "        CR = np.mean(narray_img[ridx])\n",
    "        corr[nr] += CR"
   ]
  },
  {
   "cell_type": "code",
   "execution_count": 200,
   "metadata": {
    "collapsed": true
   },
   "outputs": [],
   "source": [
    "# C(r) is proportional to r**(-a), where \"a\" gives the fractal dimention by substracting the space dimention\n",
    "fitt = []\n",
    "alpha = 0.26\n",
    "A = 2000\n",
    "\n",
    "for rad in range(0, nR):\n",
    "    if rad == 0:\n",
    "        continue\n",
    "    else:\n",
    "        corad = A*pow(rad, -alpha) \n",
    "    fitt.append(corad)"
   ]
  },
  {
   "cell_type": "code",
   "execution_count": 201,
   "metadata": {},
   "outputs": [
    {
     "data": {
      "image/png": "[encoded data removed]",
      "text/plain": [
       "<matplotlib.figure.Figure at 0x10e0e1470>"
      ]
     },
     "metadata": {},
     "output_type": "display_data"
    }
   ],
   "source": [
    "# Plot the correlation list and the fit\n",
    "fig0 = plt.figure(figsize=(5, 5), dpi=150)\n",
    "plt.plot(corr, \"r+\")\n",
    "plt.plot(fitt)\n",
    "plt.xlabel('nR x %i' %interval)\n",
    "plt.ylabel('Correlation Value')\n",
    "plt.title('Two-Point Correlation Function')\n",
    "plt.savefig('Gráfico_Correlation_%s.png' %arname)\n",
    "plt.show()"
   ]
  },
  {
   "cell_type": "code",
   "execution_count": 202,
   "metadata": {},
   "outputs": [
    {
     "data": {
      "image/png": "[encoded data removed]",
      "text/plain": [
       "<matplotlib.figure.Figure at 0x10a301a90>"
      ]
     },
     "metadata": {},
     "output_type": "display_data"
    }
   ],
   "source": [
    "# Plot the same lists in logaritmic scale\n",
    "fig0 = plt.figure(figsize=(5, 5), dpi=150)\n",
    "plt.plot(corr, \"r+\")\n",
    "plt.plot(fitt)\n",
    "plt.yscale(\"log\")\n",
    "plt.xscale(\"log\")\n",
    "plt.xlabel('nR x %i' %interval)\n",
    "plt.ylabel('Correlation Value')\n",
    "plt.title('Two-Point Correlation Function')\n",
    "plt.savefig('Gráfico_Correlation_loglog_%s.png' %arname)\n",
    "plt.show()"
   ]
  },
  {
   "cell_type": "code",
   "execution_count": 181,
   "metadata": {},
   "outputs": [
    {
     "name": "stdout",
     "output_type": "stream",
     "text": [
      "The fractal dimension is: 1.74\n"
     ]
    }
   ],
   "source": [
    "D = 2 #Space dimention (euclidean)\n",
    "\n",
    "Df = D - alpha #Fractal dimention Df\n",
    "print(\"The fractal dimension is:\", Df)"
   ]
  },
  {
   "cell_type": "markdown",
   "metadata": {},
   "source": [
    "Use this portion of the code to analyze all of the images in the provided path.\n",
    "\n",
    "It may take a long time to finish."
   ]
  },
  {
   "cell_type": "code",
   "execution_count": null,
   "metadata": {
    "scrolled": false
   },
   "outputs": [],
   "source": [
    "lcorr = []\n",
    "\n",
    "for nimage in range(0, len(archivos)):\n",
    "    filename = archivos[nimage] #The 44 value can change to select other pictures. To use all see bottom of the code\n",
    "    arname = filename[177:] #Mod this to have cut to the name of the file only\n",
    "\n",
    "    print(arname)\n",
    "    \n",
    "    # (1) Import the file to be analyzed!\n",
    "    img_file = Image.open(filename)\n",
    "    img = img_file.load()\n",
    "\n",
    "    # (2) Get image width & height in pixels\n",
    "    [xs, ys] = img_file.size\n",
    "    print(\"Total image size: \", xs*ys)\n",
    "    \n",
    "    pixels = [] #Array positions [x,y] for each pixel\n",
    "    all_pixels = [] #Same with [x, y, n], which n = 1 for a lighted pixel and n = 0 for a dark one.\n",
    "    array_img = [] #Array with 1 or 0 which resembles the image taken\n",
    "\n",
    "    # (3) Examine each pixel in the image file\n",
    "    for x in range(0, xs):\n",
    "        line = []\n",
    "        for y in range(0, ys):\n",
    "            # (4)  Get the RGB color of the pixel\n",
    "            [r, g, b, k] = img[x, y]\n",
    "\n",
    "            # (5)  Normalize pixel color values\n",
    "            r /= 255.0\n",
    "            g /= 255.0\n",
    "            b /= 255.0\n",
    "    \n",
    "            if r != 0 or g != 0 or b !=0:\n",
    "                pixels.append([x,y])\n",
    "                all_pixels.append([x,y, 1])\n",
    "                line.append(1)\n",
    "        \n",
    "            if r == 0 and g == 0 and b == 0:\n",
    "                all_pixels.append([x,y, 0])\n",
    "                line.append(0)\n",
    "    \n",
    "        array_img.append(line)\n",
    "        \n",
    "    nP = len(pixels)\n",
    "    print(\"Number of lighted pixels:\",nP, \" Percentage:\", 5747/400, \"%\")\n",
    "    \n",
    "    \n",
    "    # Obtain the number of pixels in a certain distance\n",
    "    interval = 2\n",
    "    R = np.arange(0, max(xs, ys)*np.sqrt(2) + 1, interval)\n",
    "    nR = len(R)\n",
    "    print(\"Radius:\", nR, \" Interval:\", interval)\n",
    "    dR = 0\n",
    "    count = np.zeros((nP, nR))\n",
    "\n",
    "    corr = np.zeros((nR, 1))\n",
    "\n",
    "    narray_img = np.array(array_img)\n",
    "    indx = np.where(narray_img > 0) #indx is 2 arrays with x and y points where the condition is met\n",
    "    nx = len(indx[0]) #nx == ny\n",
    "    y, x = np.meshgrid(np.arange(xs), np.arange(ys))\n",
    "    cx, cy = indx\n",
    "\n",
    "    for c in range(0, nx):\n",
    "        x0 = cx[c]\n",
    "        y0 = cy[c]\n",
    "    \n",
    "        r = np.sqrt((x - x0)**2 + (y - y0)**2)\n",
    "    \n",
    "        if c%int(nx/100) == 0:\n",
    "            print(c, c/nx*100, \"%\")\n",
    "    \n",
    "        if c == nx - 1:\n",
    "            print(\"100 %\\n\\n\")\n",
    "    \n",
    "        for nr in range(nR):\n",
    "            rad = R[nr]\n",
    "            ridx = np.where((r >= rad)*(r < rad+interval))\n",
    "            CR = np.mean(narray_img[ridx])\n",
    "            corr[nr] += CR\n",
    "        \n",
    "    lcorr.append(corr)"
   ]
  },
  {
   "cell_type": "code",
   "execution_count": 182,
   "metadata": {
    "collapsed": true
   },
   "outputs": [],
   "source": [
    "# C(r) is proportional to r**(-a), where \"a\" gives the fractal dimention by substracting the space dimention\n",
    "fitt = []\n",
    "alpha = 0.26\n",
    "A = 2000\n",
    "\n",
    "for rad in range(0, nR):\n",
    "    if rad == 0:\n",
    "        continue\n",
    "    else:\n",
    "        corad = A*pow(rad, -alpha) \n",
    "    fitt.append(corad)"
   ]
  },
  {
   "cell_type": "code",
   "execution_count": null,
   "metadata": {},
   "outputs": [],
   "source": [
    "# Plot the correlation list and the fit\n",
    "fig0 = plt.figure(figsize=(5, 5), dpi=150)\n",
    "plt.plot(lcorr, \"r+\")\n",
    "plt.plot(fitt)\n",
    "plt.xlabel('nR x %i' %interval)\n",
    "plt.ylabel('Correlation Value')\n",
    "plt.title('Two-Point Correlation Function')\n",
    "plt.savefig('Gráfico_Correlation_%s.png' %arname)\n",
    "plt.show()"
   ]
  },
  {
   "cell_type": "code",
   "execution_count": null,
   "metadata": {},
   "outputs": [],
   "source": [
    "D = 2 #Space dimention (euclidean)\n",
    "\n",
    "Df = D - alpha #Fractal dimention Df\n",
    "print(\"The fractal dimension is:\", Df)"
   ]
  },
  {
   "cell_type": "code",
   "execution_count": null,
   "metadata": {
    "collapsed": true
   },
   "outputs": [],
   "source": []
  }
 ],
 "metadata": {
  "kernelspec": {
   "display_name": "Python 3",
   "language": "python",
   "name": "python3"
  },
  "language_info": {
   "codemirror_mode": {
    "name": "ipython",
    "version": 3
   },
   "file_extension": ".py",
   "mimetype": "text/x-python",
   "name": "python",
   "nbconvert_exporter": "python",
   "pygments_lexer": "ipython3",
   "version": "3.6.1"
  }
 },
 "nbformat": 4,
 "nbformat_minor": 2
}
